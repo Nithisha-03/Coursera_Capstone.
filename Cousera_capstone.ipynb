{
 "cells": [
  {
   "cell_type": "markdown",
   "id": "235aed3c-f256-4c0b-b0b2-c69f930b2141",
   "metadata": {},
   "source": [
    "This notebook will be mainly used for the capstone project.."
   ]
  },
  {
   "cell_type": "code",
   "execution_count": 2,
   "id": "9ae14cd6-710b-4e7b-8e16-190f86f2c37e",
   "metadata": {},
   "outputs": [
    {
     "name": "stdout",
     "output_type": "stream",
     "text": [
      "Hello Capstone Project Course!\n"
     ]
    }
   ],
   "source": [
    "import pandas as pd\n",
    "import numpy as np\n",
    "print(\"Hello Capstone Project Course!\")"
   ]
  },
  {
   "cell_type": "code",
   "execution_count": null,
   "id": "4b092d1c-ffad-4c4c-a284-1f2e7690cf98",
   "metadata": {},
   "outputs": [],
   "source": []
  }
 ],
 "metadata": {
  "kernelspec": {
   "display_name": "Python",
   "language": "python",
   "name": "conda-env-python-py"
  },
  "language_info": {
   "codemirror_mode": {
    "name": "ipython",
    "version": 3
   },
   "file_extension": ".py",
   "mimetype": "text/x-python",
   "name": "python",
   "nbconvert_exporter": "python",
   "pygments_lexer": "ipython3",
   "version": "3.6.13"
  },
  "toc-autonumbering": true,
  "toc-showmarkdowntxt": true
 },
 "nbformat": 4,
 "nbformat_minor": 5
}
